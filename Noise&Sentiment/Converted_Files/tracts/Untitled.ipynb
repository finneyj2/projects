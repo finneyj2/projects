{
 "cells": [
  {
   "cell_type": "code",
   "execution_count": 3,
   "id": "banned-alberta",
   "metadata": {},
   "outputs": [],
   "source": [
    "library(\"terra\")"
   ]
  },
  {
   "cell_type": "code",
   "execution_count": 2,
   "id": "worse-legislature",
   "metadata": {},
   "outputs": [
    {
     "name": "stdout",
     "output_type": "stream",
     "text": [
      "Installing package into 'C:/Users/jahli/AppData/Local/R/win-library/4.3'\n",
      "(as 'lib' is unspecified)\n"
     ]
    },
    {
     "name": "stderr",
     "output_type": "stream",
     "text": [
      "trying URL 'https://cloud.r-project.org/bin/windows/contrib/4.3/sf_1.0-16.zip'\n",
      "Content type 'application/zip' length 39221970 bytes (37.4 MB)\n",
      "==================================================\n",
      "downloaded 37.4 MB\n",
      "\n"
     ]
    },
    {
     "name": "stdout",
     "output_type": "stream",
     "text": [
      "package 'sf' successfully unpacked and MD5 sums checked\n"
     ]
    },
    {
     "name": "stderr",
     "output_type": "stream",
     "text": [
      "Warning:\n",
      "cannot remove prior installation of package 'sf'\n",
      "Warning in file.copy(savedcopy, lib, recursive = TRUE):\n",
      "problem copying C:\\Users\\jahli\\AppData\\Local\\R\\win-library\\4.3\\00LOCK\\sf\\libs\\x64\\sf.dll to C:\\Users\\jahli\\AppData\\Local\\R\\win-library\\4.3\\sf\\libs\\x64\\sf.dll: Permission denied\n",
      "Warning:\n",
      "restored 'sf'\n"
     ]
    },
    {
     "name": "stdout",
     "output_type": "stream",
     "text": [
      "\n",
      "The downloaded binary packages are in\n",
      "\tC:\\Users\\jahli\\AppData\\Local\\Temp\\RtmpwlTvXb\\downloaded_packages\n"
     ]
    },
    {
     "name": "stderr",
     "output_type": "stream",
     "text": [
      "Warning:\n",
      "package 'sf' was built under R version 4.3.3\n"
     ]
    },
    {
     "name": "stdout",
     "output_type": "stream",
     "text": [
      "Linking to GEOS 3.11.2, GDAL 3.8.2, PROJ 9.3.1; sf_use_s2() is TRUE\n"
     ]
    }
   ],
   "source": [
    "install.packages(\"sf\")\n",
    "library(sf)"
   ]
  },
  {
   "cell_type": "code",
   "execution_count": null,
   "id": "spanish-belief",
   "metadata": {},
   "outputs": [],
   "source": [
    "abbrev <- list(\"AL\",\"AK\",\"AZ\",\"AR\",\"CA\",\"CO\",\"CT\",\"DE\",\"FL\",\"GA\",\"HI\",\"ID\",\"IL\",\"IN\",\"IA\",\"KS\",\"KY\",\"LA\",\"ME\",\"MD\",\"MA\",\"MI\",\"MN\",\"MS\",\"MO\",\"MT\",\"NE\",\"NV\",\"NH\",\"NJ\",\"NM\",\"NY\",\"NC\",\"ND\",\"OH\",\"OK\",\"OR\",\"PA\",\"RI\",\"SC\",\"SD\",\"TN\",\"TX\",\"UT\",\"VT\",\"VA\",\"WA\",\"WV\",\"WI\",\"WY\")\n",
    "numero = 2:52\n",
    "bread = \"tractresult\"\n",
    "butter = \".rds\"\n",
    "numera = as.character(numero)\n",
    "numera = paste(numera,\"DF\", sep=\"\")\n"
   ]
  }
 ],
 "metadata": {
  "kernelspec": {
   "display_name": "R (RKernel)",
   "language": "R",
   "name": "rkernel"
  },
  "language_info": {
   "codemirror_mode": "R",
   "file_extension": ".R",
   "mimetype": "text/x-r-source",
   "name": "R",
   "pygments_lexer": "r",
   "version": "4.3.1"
  }
 },
 "nbformat": 4,
 "nbformat_minor": 5
}
