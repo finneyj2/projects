{
 "cells": [
  {
   "cell_type": "code",
   "execution_count": 3,
   "id": "mysterious-lingerie",
   "metadata": {},
   "outputs": [],
   "source": [
    "library(\"terra\")"
   ]
  },
  {
   "cell_type": "code",
   "execution_count": 2,
   "id": "virtual-argentina",
   "metadata": {},
   "outputs": [
    {
     "name": "stdout",
     "output_type": "stream",
     "text": [
      "Installing package into 'C:/Users/jahli/AppData/Local/R/win-library/4.3'\n",
      "(as 'lib' is unspecified)\n"
     ]
    },
    {
     "name": "stderr",
     "output_type": "stream",
     "text": [
      "trying URL 'https://cloud.r-project.org/bin/windows/contrib/4.3/sf_1.0-16.zip'\n",
      "Content type 'application/zip' length 39221970 bytes (37.4 MB)\n",
      "==================================================\n",
      "downloaded 37.4 MB\n",
      "\n"
     ]
    },
    {
     "name": "stdout",
     "output_type": "stream",
     "text": [
      "package 'sf' successfully unpacked and MD5 sums checked\n"
     ]
    },
    {
     "name": "stderr",
     "output_type": "stream",
     "text": [
      "Warning:\n",
      "cannot remove prior installation of package 'sf'\n",
      "Warning in file.copy(savedcopy, lib, recursive = TRUE):\n",
      "problem copying C:\\Users\\jahli\\AppData\\Local\\R\\win-library\\4.3\\00LOCK\\sf\\libs\\x64\\sf.dll to C:\\Users\\jahli\\AppData\\Local\\R\\win-library\\4.3\\sf\\libs\\x64\\sf.dll: Permission denied\n",
      "Warning:\n",
      "restored 'sf'\n"
     ]
    },
    {
     "name": "stdout",
     "output_type": "stream",
     "text": [
      "\n",
      "The downloaded binary packages are in\n",
      "\tC:\\Users\\jahli\\AppData\\Local\\Temp\\RtmpwlTvXb\\downloaded_packages\n"
     ]
    },
    {
     "name": "stderr",
     "output_type": "stream",
     "text": [
      "Warning:\n",
      "package 'sf' was built under R version 4.3.3\n"
     ]
    },
    {
     "name": "stdout",
     "output_type": "stream",
     "text": [
      "Linking to GEOS 3.11.2, GDAL 3.8.2, PROJ 9.3.1; sf_use_s2() is TRUE\n"
     ]
    }
   ],
   "source": [
    "install.packages(\"sf\")\n",
    "library(sf)"
   ]
  },
  {
   "cell_type": "code",
   "execution_count": 4,
   "id": "satisfactory-austin",
   "metadata": {},
   "outputs": [],
   "source": [
    "abbrev <- list(\"AL\",\"AK\",\"AZ\",\"AR\",\"CA\",\"CO\",\"CT\",\"DE\",\"FL\",\"GA\",\"HI\",\"ID\",\"IL\",\"IN\",\"IA\",\"KS\",\"KY\",\"LA\",\"ME\",\"MD\",\"MA\",\"MI\",\"MN\",\"MS\",\"MO\",\"MT\",\"NE\",\"NV\",\"NH\",\"NJ\",\"NM\",\"NY\",\"NC\",\"ND\",\"OH\",\"OK\",\"OR\",\"PA\",\"RI\",\"SC\",\"SD\",\"TN\",\"TX\",\"UT\",\"VT\",\"VA\",\"WA\",\"WV\",\"WI\",\"WY\")\n",
    "numero = 2:52\n",
    "bread = \"tractresult\"\n",
    "butter = \".rds\"\n",
    "numera = as.character(numero)\n",
    "numera = paste(numera,\"DF\", sep=\"\")\n"
   ]
  },
  {
   "cell_type": "code",
   "execution_count": 6,
   "id": "significant-jewelry",
   "metadata": {},
   "outputs": [
    {
     "data": {
      "text/plain": [
       " [1] \"2DF\"  \"3DF\"  \"4DF\"  \"5DF\"  \"6DF\"  \"7DF\"  \"8DF\"  \"9DF\"  \"10DF\" \"11DF\"\n",
       "[11] \"12DF\" \"13DF\" \"14DF\" \"15DF\" \"16DF\" \"17DF\" \"18DF\" \"19DF\" \"20DF\" \"21DF\"\n",
       "[21] \"22DF\" \"23DF\" \"24DF\" \"25DF\" \"26DF\" \"27DF\" \"28DF\" \"29DF\" \"30DF\" \"31DF\"\n",
       "[31] \"32DF\" \"33DF\" \"34DF\" \"35DF\" \"36DF\" \"37DF\" \"38DF\" \"39DF\" \"40DF\" \"41DF\"\n",
       "[41] \"42DF\" \"43DF\" \"44DF\" \"45DF\" \"46DF\" \"47DF\" \"48DF\" \"49DF\" \"50DF\" \"51DF\"\n",
       "[51] \"52DF\""
      ]
     },
     "execution_count": 6,
     "metadata": {},
     "output_type": "execute_result"
    }
   ],
   "source": [
    "numera"
   ]
  },
  {
   "cell_type": "code",
   "execution_count": 10,
   "id": "designing-diary",
   "metadata": {},
   "outputs": [
    {
     "data": {
      "text/plain": [
       " [1] \"AL.rds\" \"AK.rds\" \"AZ.rds\" \"AR.rds\" \"CA.rds\" \"CO.rds\" \"CT.rds\" \"DE.rds\"\n",
       " [9] \"FL.rds\" \"GA.rds\" \"HI.rds\" \"ID.rds\" \"IL.rds\" \"IN.rds\" \"IA.rds\" \"KS.rds\"\n",
       "[17] \"KY.rds\" \"LA.rds\" \"ME.rds\" \"MD.rds\" \"MA.rds\" \"MI.rds\" \"MN.rds\" \"MS.rds\"\n",
       "[25] \"MO.rds\" \"MT.rds\" \"NE.rds\" \"NV.rds\" \"NH.rds\" \"NJ.rds\" \"NM.rds\" \"NY.rds\"\n",
       "[33] \"NC.rds\" \"ND.rds\" \"OH.rds\" \"OK.rds\" \"OR.rds\" \"PA.rds\" \"RI.rds\" \"SC.rds\"\n",
       "[41] \"SD.rds\" \"TN.rds\" \"TX.rds\" \"UT.rds\" \"VT.rds\" \"VA.rds\" \"WA.rds\" \"WV.rds\"\n",
       "[49] \"WI.rds\" \"WY.rds\""
      ]
     },
     "execution_count": 10,
     "metadata": {},
     "output_type": "execute_result"
    },
    {
     "data": {
      "text/plain": [
       " [1] \"tractresultAL.rds\" \"tractresultAK.rds\" \"tractresultAZ.rds\"\n",
       " [4] \"tractresultAR.rds\" \"tractresultCA.rds\" \"tractresultCO.rds\"\n",
       " [7] \"tractresultCT.rds\" \"tractresultDE.rds\" \"tractresultFL.rds\"\n",
       "[10] \"tractresultGA.rds\" \"tractresultHI.rds\" \"tractresultID.rds\"\n",
       "[13] \"tractresultIL.rds\" \"tractresultIN.rds\" \"tractresultIA.rds\"\n",
       "[16] \"tractresultKS.rds\" \"tractresultKY.rds\" \"tractresultLA.rds\"\n",
       "[19] \"tractresultME.rds\" \"tractresultMD.rds\" \"tractresultMA.rds\"\n",
       "[22] \"tractresultMI.rds\" \"tractresultMN.rds\" \"tractresultMS.rds\"\n",
       "[25] \"tractresultMO.rds\" \"tractresultMT.rds\" \"tractresultNE.rds\"\n",
       "[28] \"tractresultNV.rds\" \"tractresultNH.rds\" \"tractresultNJ.rds\"\n",
       "[31] \"tractresultNM.rds\" \"tractresultNY.rds\" \"tractresultNC.rds\"\n",
       "[34] \"tractresultND.rds\" \"tractresultOH.rds\" \"tractresultOK.rds\"\n",
       "[37] \"tractresultOR.rds\" \"tractresultPA.rds\" \"tractresultRI.rds\"\n",
       "[40] \"tractresultSC.rds\" \"tractresultSD.rds\" \"tractresultTN.rds\"\n",
       "[43] \"tractresultTX.rds\" \"tractresultUT.rds\" \"tractresultVT.rds\"\n",
       "[46] \"tractresultVA.rds\" \"tractresultWA.rds\" \"tractresultWV.rds\"\n",
       "[49] \"tractresultWI.rds\" \"tractresultWY.rds\""
      ]
     },
     "execution_count": 10,
     "metadata": {},
     "output_type": "execute_result"
    }
   ],
   "source": [
    "abbrev1 = paste(abbrev,\".rds\",sep=\"\")\n",
    "abbrev2 = paste(bread,abbrev1,sep=\"\")\n",
    "abbrev1\n",
    "abbrev2\n"
   ]
  },
  {
   "cell_type": "code",
   "execution_count": 16,
   "id": "amino-powell",
   "metadata": {},
   "outputs": [
    {
     "name": "stderr",
     "output_type": "stream",
     "text": [
      "Error in gzfile(file, \"rb\"):\n",
      "invalid 'description' argument\n"
     ]
    },
    {
     "ename": "ERROR",
     "evalue": "",
     "output_type": "error",
     "traceback": [
      "\nTraceback:\n1. readRDS(abbrev2[x])\n2. readRDS(abbrev2[x])\n3. base::readRDS(file = file, refhook = refhook)"
     ]
    },
    {
     "name": "stdout",
     "output_type": "stream",
     "text": [
      "Writing layer `tractresultGA.rds' to data source \n",
      "  `tractresultGA.rds.csv' using driver `CSV'\n",
      "Writing 2791 features with 25 fields and geometry type Multi Polygon.\n",
      "Writing layer `tractresultHI.rds' to data source \n",
      "  `tractresultHI.rds.csv' using driver `CSV'\n",
      "Writing 436 features with 25 fields and geometry type Multi Polygon.\n",
      "Writing layer `tractresultID.rds' to data source \n",
      "  `tractresultID.rds.csv' using driver `CSV'\n",
      "Writing 456 features with 25 fields and geometry type Polygon.\n",
      "Writing layer `tractresultIL.rds' to data source \n",
      "  `tractresultIL.rds.csv' using driver `CSV'\n",
      "Writing 3263 features with 25 fields and geometry type Multi Polygon.\n",
      "Writing layer `tractresultIN.rds' to data source \n",
      "  `tractresultIN.rds.csv' using driver `CSV'\n",
      "Writing 1693 features with 25 fields and geometry type Multi Polygon.\n",
      "Writing layer `tractresultIA.rds' to data source \n",
      "  `tractresultIA.rds.csv' using driver `CSV'\n",
      "Writing 896 features with 25 fields and geometry type Polygon.\n",
      "Writing layer `tractresultKS.rds' to data source \n",
      "  `tractresultKS.rds.csv' using driver `CSV'\n",
      "Writing 829 features with 25 fields and geometry type Polygon.\n",
      "Writing layer `tractresultKY.rds' to data source \n",
      "  `tractresultKY.rds.csv' using driver `CSV'\n",
      "Writing 1306 features with 25 fields and geometry type Multi Polygon.\n",
      "Writing layer `tractresultLA.rds' to data source \n",
      "  `tractresultLA.rds.csv' using driver `CSV'\n",
      "Writing 1379 features with 25 fields and geometry type Multi Polygon.\n",
      "Writing layer `tractresultME.rds' to data source \n",
      "  `tractresultME.rds.csv' using driver `CSV'\n",
      "Writing 401 features with 25 fields and geometry type Multi Polygon.\n",
      "Writing layer `tractresultMD.rds' to data source \n",
      "  `tractresultMD.rds.csv' using driver `CSV'\n",
      "Writing 1465 features with 25 fields and geometry type Multi Polygon.\n",
      "Writing layer `tractresultMA.rds' to data source \n",
      "  `tractresultMA.rds.csv' using driver `CSV'\n",
      "Writing 1614 features with 25 fields and geometry type Multi Polygon.\n",
      "Writing layer `tractresultMI.rds' to data source \n",
      "  `tractresultMI.rds.csv' using driver `CSV'\n",
      "Writing 2971 features with 25 fields and geometry type Multi Polygon.\n",
      "Writing layer `tractresultMN.rds' to data source \n",
      "  `tractresultMN.rds.csv' using driver `CSV'\n",
      "Writing 1502 features with 25 fields and geometry type Multi Polygon.\n",
      "Writing layer `tractresultMS.rds' to data source \n",
      "  `tractresultMS.rds.csv' using driver `CSV'\n",
      "Writing 875 features with 25 fields and geometry type Multi Polygon.\n",
      "Writing layer `tractresultMO.rds' to data source \n",
      "  `tractresultMO.rds.csv' using driver `CSV'\n",
      "Writing 1654 features with 25 fields and geometry type Multi Polygon.\n",
      "Writing layer `tractresultMT.rds' to data source \n",
      "  `tractresultMT.rds.csv' using driver `CSV'\n",
      "Writing 319 features with 25 fields and geometry type Polygon.\n",
      "Writing layer `tractresultNE.rds' to data source \n",
      "  `tractresultNE.rds.csv' using driver `CSV'\n",
      "Writing 553 features with 25 fields and geometry type Polygon.\n",
      "Writing layer `tractresultNV.rds' to data source \n",
      "  `tractresultNV.rds.csv' using driver `CSV'\n",
      "Writing 779 features with 25 fields and geometry type Polygon.\n",
      "Writing layer `tractresultNH.rds' to data source \n",
      "  `tractresultNH.rds.csv' using driver `CSV'\n",
      "Writing 349 features with 25 fields and geometry type Multi Polygon.\n",
      "Writing layer `tractresultNJ.rds' to data source \n",
      "  `tractresultNJ.rds.csv' using driver `CSV'\n",
      "Writing 2175 features with 25 fields and geometry type Multi Polygon.\n",
      "Writing layer `tractresultNM.rds' to data source \n",
      "  `tractresultNM.rds.csv' using driver `CSV'\n",
      "Writing 612 features with 25 fields and geometry type Polygon.\n",
      "Writing layer `tractresultNY.rds' to data source \n",
      "  `tractresultNY.rds.csv' using driver `CSV'\n",
      "Writing 5394 features with 25 fields and geometry type Multi Polygon.\n",
      "Writing layer `tractresultNC.rds' to data source \n",
      "  `tractresultNC.rds.csv' using driver `CSV'\n",
      "Writing 2660 features with 25 fields and geometry type Multi Polygon.\n",
      "Writing layer `tractresultND.rds' to data source \n",
      "  `tractresultND.rds.csv' using driver `CSV'\n",
      "Writing 228 features with 25 fields and geometry type Polygon.\n",
      "Writing layer `tractresultOH.rds' to data source \n",
      "  `tractresultOH.rds.csv' using driver `CSV'\n",
      "Writing 3162 features with 25 fields and geometry type Multi Polygon.\n",
      "Writing layer `tractresultOK.rds' to data source \n",
      "  `tractresultOK.rds.csv' using driver `CSV'\n",
      "Writing 1205 features with 25 fields and geometry type Polygon.\n",
      "Writing layer `tractresultOR.rds' to data source \n",
      "  `tractresultOR.rds.csv' using driver `CSV'\n",
      "Writing 994 features with 25 fields and geometry type Multi Polygon.\n",
      "Writing layer `tractresultPA.rds' to data source \n",
      "  `tractresultPA.rds.csv' using driver `CSV'\n",
      "Writing 3445 features with 25 fields and geometry type Multi Polygon.\n",
      "Writing layer `tractresultRI.rds' to data source \n",
      "  `tractresultRI.rds.csv' using driver `CSV'\n",
      "Writing 247 features with 25 fields and geometry type Multi Polygon.\n",
      "Writing layer `tractresultSC.rds' to data source \n",
      "  `tractresultSC.rds.csv' using driver `CSV'\n",
      "Writing 1317 features with 25 fields and geometry type Multi Polygon.\n",
      "Writing layer `tractresultSD.rds' to data source \n",
      "  `tractresultSD.rds.csv' using driver `CSV'\n",
      "Writing 242 features with 25 fields and geometry type Polygon.\n",
      "Writing layer `tractresultTN.rds' to data source \n",
      "  `tractresultTN.rds.csv' using driver `CSV'\n",
      "Writing 1701 features with 25 fields and geometry type Multi Polygon.\n",
      "Writing layer `tractresultTX.rds' to data source \n",
      "  `tractresultTX.rds.csv' using driver `CSV'\n",
      "Writing 6884 features with 25 fields and geometry type Multi Polygon.\n",
      "Writing layer `tractresultUT.rds' to data source \n",
      "  `tractresultUT.rds.csv' using driver `CSV'\n",
      "Writing 716 features with 25 fields and geometry type Multi Polygon.\n",
      "Writing layer `tractresultVT.rds' to data source \n",
      "  `tractresultVT.rds.csv' using driver `CSV'\n",
      "Writing 193 features with 25 fields and geometry type Polygon.\n",
      "Writing layer `tractresultVA.rds' to data source \n",
      "  `tractresultVA.rds.csv' using driver `CSV'\n",
      "Writing 2186 features with 25 fields and geometry type Multi Polygon.\n",
      "Writing layer `tractresultWA.rds' to data source \n",
      "  `tractresultWA.rds.csv' using driver `CSV'\n",
      "Writing 1773 features with 25 fields and geometry type Multi Polygon.\n",
      "Writing layer `tractresultWV.rds' to data source \n",
      "  `tractresultWV.rds.csv' using driver `CSV'\n",
      "Writing 546 features with 25 fields and geometry type Polygon.\n",
      "Writing layer `tractresultWI.rds' to data source \n",
      "  `tractresultWI.rds.csv' using driver `CSV'\n",
      "Writing 1528 features with 25 fields and geometry type Multi Polygon.\n",
      "Writing layer `tractresultWY.rds' to data source \n",
      "  `tractresultWY.rds.csv' using driver `CSV'\n",
      "Writing 160 features with 25 fields and geometry type Polygon.\n"
     ]
    }
   ],
   "source": [
    " for (x in 10:52){\n",
    "\tfor (y in numera){ \n",
    "\t\tz = paste(abbrev2[x],\".csv\",sep=\"\")\n",
    "\t\tif (!file.exists(z)) { \n",
    "        y = readRDS(abbrev2[x])\n",
    "\t\t\t\t st_write(y, paste(abbrev2[x],\".csv\",sep=\"\"))\n",
    "\t\t}\n",
    "\t\t\telse{\n",
    "                \tnext}\n",
    "\t\t\t\t}}\n",
    "\n",
    "\t\t"
   ]
  },
  {
   "cell_type": "code",
   "execution_count": null,
   "id": "alternative-embassy",
   "metadata": {},
   "outputs": [],
   "source": []
  }
 ],
 "metadata": {
  "kernelspec": {
   "display_name": "R (RKernel)",
   "language": "R",
   "name": "rkernel"
  },
  "language_info": {
   "codemirror_mode": "R",
   "file_extension": ".R",
   "mimetype": "text/x-r-source",
   "name": "R",
   "pygments_lexer": "r",
   "version": "4.3.1"
  }
 },
 "nbformat": 4,
 "nbformat_minor": 5
}
